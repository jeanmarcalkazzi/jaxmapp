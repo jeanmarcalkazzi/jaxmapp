{
 "cells": [
  {
   "cell_type": "markdown",
   "id": "d27a73ce-bc5f-4b65-bdcd-33725f1871e6",
   "metadata": {},
   "source": [
    "# 3. Benchmarking roadmap construction methods\n",
    "\n",
    "In JAXMAPP, we manage benchmark experiments using `hydra`."
   ]
  },
  {
   "cell_type": "code",
   "execution_count": 1,
   "id": "ee70c0d8-6442-42d9-a9a4-abf84325c701",
   "metadata": {},
   "outputs": [
    {
     "name": "stdout",
     "output_type": "stream",
     "text": [
      "../scripts/config/create_eval_data.yaml      ../scripts/config/eval.yaml\n",
      "../scripts/config/create_training_data.yaml  ../scripts/config/train.yaml\n",
      "\n",
      "../scripts/config/dataset:\n",
      "eval_example.yaml  eval_standard.yaml  instance  training_hetero.yaml\n",
      "\n",
      "../scripts/config/model:\n",
      "ctrm.yaml\n",
      "\n",
      "../scripts/config/planner:\n",
      "pp.yaml\n",
      "\n",
      "../scripts/config/sampler:\n",
      "ctrm.yaml  grid_shared.yaml  random.yaml  random_shared.yaml\n"
     ]
    }
   ],
   "source": [
    "!ls ../scripts/config/*"
   ]
  },
  {
   "cell_type": "markdown",
   "id": "2209406e-dc5f-4968-a41a-69b5fdf5f29c",
   "metadata": {},
   "source": [
    "To evaluate your own roadmap construction methods, you first need to create a new configuration file in `../scripts/config/sampler`.\n",
    "Here's an example of random sampler:"
   ]
  },
  {
   "cell_type": "code",
   "execution_count": 2,
   "id": "11094ba5-7c42-4a82-8b10-a51f0f51391f",
   "metadata": {},
   "outputs": [
    {
     "name": "stdout",
     "output_type": "stream",
     "text": [
      "_target_: jaxmapp.roadmap.random_sampler.RandomSampler\n",
      "\n",
      "share_roadmap: false\n",
      "num_samples: 3000\n",
      "max_T: 64"
     ]
    }
   ],
   "source": [
    "!cat ../scripts/config/sampler/random.yaml"
   ]
  },
  {
   "cell_type": "markdown",
   "id": "1f97a009-cc2e-47ba-a49a-136133f45548",
   "metadata": {},
   "source": [
    "Once configuration file is prepared, execute the following command at the root directory of this project:\n",
    "\n",
    "```console\n",
    "$ python scripts/eval.py sampler=[your-sampler-config-name]\n",
    "```\n",
    "\n",
    "Then the program will evaluate your method with the data in `data_example/eval_data/example` and store the result in the same directory with the name `${now:%Y-%m-%d_%H-%M-%S}_your_sampler_name.pkl`.\n",
    "\n",
    "Once all the methods are evaluated, you can compare their results as follows:"
   ]
  },
  {
   "cell_type": "code",
   "execution_count": 3,
   "id": "d01aa906-c16f-4826-95e9-eab806d96a40",
   "metadata": {},
   "outputs": [
    {
     "name": "stderr",
     "output_type": "stream",
     "text": [
      "2022-02-02 15:12:12.959995: W tensorflow/stream_executor/platform/default/dso_loader.cc:64] Could not load dynamic library 'libcudart.so.11.0'; dlerror: libcudart.so.11.0: cannot open shared object file: No such file or directory\n"
     ]
    },
    {
     "data": {
      "image/png": "[encoded data removed]",
      "text/plain": [
       "<Figure size 864x216 with 3 Axes>"
      ]
     },
     "metadata": {
      "needs_background": "light"
     },
     "output_type": "display_data"
    }
   ],
   "source": [
    "from jaxmapp.utils.viz import visualize_evaluation_results\n",
    "\n",
    "dirname = \"../data_example/eval_data/example\"  # change this to \"/workspace\" if you are in the docker container\n",
    "\n",
    "visualize_evaluation_results(dirname);"
   ]
  },
  {
   "cell_type": "markdown",
   "id": "c266ac21-c717-471d-94e6-52e09f5899d3",
   "metadata": {},
   "source": [
    "The above evaluation is using only 10 instances. You can create your own evaluation dataset with the following steps.\n",
    "\n",
    "1. Create dataset config in `config/dataset` (see `config/dataset/eval_example.yaml` for example)\n",
    "2. Create instance generation config in `config/dataset/instance` and specify it in the above dataset config file.\n",
    "3. Execute `python scripts/create_eval_data.py dataset=[your-dataset-config-name]`\n",
    "4. Execute `python scripts/eval.py sampler=[sample-config-name] dataset=[your-dataset-config-name]`\n",
    "\n",
    "For instance, if you run the step 3 and 4 with `dataset=eval_standard`, you can create the 100 problem instances compatible with `homo-basis` data used in the CTRM paper."
   ]
  }
 ],
 "metadata": {
  "kernelspec": {
   "display_name": "Python 3 (ipykernel)",
   "language": "python",
   "name": "python3"
  },
  "language_info": {
   "codemirror_mode": {
    "name": "ipython",
    "version": 3
   },
   "file_extension": ".py",
   "mimetype": "text/x-python",
   "name": "python",
   "nbconvert_exporter": "python",
   "pygments_lexer": "ipython3",
   "version": "3.9.5"
  }
 },
 "nbformat": 4,
 "nbformat_minor": 5
}
