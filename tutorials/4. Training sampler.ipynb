{
 "cells": [
  {
   "cell_type": "markdown",
   "metadata": {},
   "source": [
    "# 4. Training sampler\n",
    "\n",
    "JAXMAPP provides some useful features for training sampler models from MAPP demonstrations.\n",
    "\n",
    "## Overview\n",
    "\n",
    "- `scripts/create_training_data.py` creates a collection of MAPP problem instances and their solutions using random sampler.\n",
    "- `scripts/create_tfrecords.py` converts the data collection created above into the `tfrecord` format.\n",
    "- `scripts/train.py` trains a sampler (for examle `CTRMNet` used in `CTRMSampler`).\n",
    "\n",
    "In order to fully use the functions provided above, you need to be able to use hydra and jax to some extent. \n",
    "However, if you know how to handle tfrecord, learning itself can be done with other deep learning frameworks such as pyTorch.\n"
   ]
  },
  {
   "cell_type": "markdown",
   "metadata": {},
   "source": [
    "## Dataset generation\n",
    "\n",
    "```console\n",
    "$ python scripts/create_training_data.py\n",
    "```\n",
    "\n",
    "By running `create_training_data.py` you can create a collection of MAPP problems with their solutions based on the config provided by `scripts/config/create_trainining_data.yaml`.\n",
    "By default, MAPP problem instances with `num_agents == 30` and variable `max_speeds` and `rads` are randomly generated and solved via `RandomSampler`.\n",
    "The complete definition of instances is described in `scripts/config/dataset/instance/hetero_fixednumagents.yaml`, which you can change to provide different problem collections for training.\n",
    "\n",
    "Note that, since it takes a considerable amount of time to solve each problem, this script needs to be on a workstation with a reasonable CPU to full make use of `joblib.Parallel` feature."
   ]
  },
  {
   "cell_type": "markdown",
   "metadata": {},
   "source": [
    "## Conversion to tfrecord\n",
    "\n",
    "```console\n",
    "$ python scripts/create_tfrecord.py\n",
    "```\n",
    "\n",
    "With this script, you can pick out some data for training your sampler from created problem instances and convert them into tfrecord format.\n",
    "\n",
    "Currently, the following data are stored:\n",
    "\n",
    "- `current_pos`: current positions of all agents\n",
    "- `previous_pos`: previous positions of all agents\n",
    "- `next_pos`: next positions of all agents\n",
    "- `goals`: goal positions of all agents\n",
    "- `max_speeds`: agent's max speed\n",
    "- `rads`: agent's sizes\n",
    "- `occupancy`: occupancy map of the environment\n",
    "- `cost_map`: cost-to-go maps for each agent obtained using the dijkstra algorithm\n",
    "\n",
    "\n",
    "By modifying the script above you can add some more data necessary for your training, such as `instance.starts` and `instance.obs.sdf`."
   ]
  },
  {
   "cell_type": "markdown",
   "metadata": {},
   "source": [
    "## Training\n",
    "\n",
    "```console\n",
    "$ python scripts/train.py\n",
    "```\n",
    "\n",
    "This script trains a sampler model specified in `scripts/config/train.yaml` and `scripts/config/model/**.yaml`. By default the script will train `CTRMNet` used in `CTRMSampler`.\n",
    "If your model is written in `JAX` and `flax` you'll be able to reuse this training script almost as-is.\n",
    "\n",
    "Nevertheless, as long as your sampler can be trained in a supervised fashion, training loop should be basically simple like:\n",
    "\n",
    "```python\n",
    "for e in range(config.num_epochs):\n",
    "        for split in [\"train\", \"val\"]:\n",
    "            for batch in tqdm(datasets[split].as_numpy_iterator()):\n",
    "                ...\n",
    "                # single training step using batch\n",
    "```"
   ]
  }
 ],
 "metadata": {
  "kernelspec": {
   "display_name": "Python 3 (ipykernel)",
   "language": "python",
   "name": "python3"
  },
  "language_info": {
   "codemirror_mode": {
    "name": "ipython",
    "version": 3
   },
   "file_extension": ".py",
   "mimetype": "text/x-python",
   "name": "python",
   "nbconvert_exporter": "python",
   "pygments_lexer": "ipython3",
   "version": "3.9.5"
  }
 },
 "nbformat": 4,
 "nbformat_minor": 4
}
